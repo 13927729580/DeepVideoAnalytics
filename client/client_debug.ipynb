{
 "cells": [
  {
   "cell_type": "code",
   "execution_count": 1,
   "metadata": {},
   "outputs": [],
   "source": [
    "import sys\n",
    "sys.path.append('../')\n",
    "import client\n",
    "import logging\n",
    "from IPython.display import Image"
   ]
  },
  {
   "cell_type": "code",
   "execution_count": 2,
   "metadata": {},
   "outputs": [],
   "source": [
    "ctx = client.DVAContext(token=\"96c3f754322c6fa7da724d14ef475cdd1f382189\")"
   ]
  },
  {
   "cell_type": "code",
   "execution_count": 3,
   "metadata": {},
   "outputs": [
    {
     "name": "stdout",
     "output_type": "stream",
     "text": [
      "exampledataset with ID: 2\n",
      "crnn_test with ID: 3\n",
      "citest with ID: 1\n"
     ]
    }
   ],
   "source": [
    "for v in ctx.list_videos():\n",
    "    print \"{name} with ID: {vid}\".format(name=v['name'],vid=v['id'])"
   ]
  },
  {
   "cell_type": "code",
   "execution_count": 4,
   "metadata": {
    "scrolled": false
   },
   "outputs": [
    {
     "name": "stdout",
     "output_type": "stream",
     "text": [
      "coco\n",
      "textbox\n",
      "face\n",
      "inception\n",
      "facenet\n",
      "crnn\n",
      "tagger\n"
     ]
    }
   ],
   "source": [
    "for v in ctx.list_models():\n",
    "    print v['name']"
   ]
  },
  {
   "cell_type": "code",
   "execution_count": 5,
   "metadata": {},
   "outputs": [],
   "source": [
    "retrievers = {r['name']:r for r in ctx.list_retrievers()}"
   ]
  },
  {
   "cell_type": "code",
   "execution_count": 6,
   "metadata": {},
   "outputs": [
    {
     "name": "stdout",
     "output_type": "stream",
     "text": [
      "{u'last_built': u'2017-11-26T04:37:55.994478Z', u'source_filters': {u'indexer_shasum': u'48b026cf77dfbd5d9841cca3ee550ef0ee5a0751'}, u'algorithm': u'E', u'created': u'2017-11-26T04:37:55.993117Z', u'url': u'http://localhost:8000/api/retrievers/1/', u'arguments': None, u'id': 1, u'name': u'inception'}\n"
     ]
    }
   ],
   "source": [
    "print retrievers['inception']"
   ]
  },
  {
   "cell_type": "code",
   "execution_count": 7,
   "metadata": {},
   "outputs": [],
   "source": [
    "q = client.FindSimilarImages('../notebooks/figures/leo.jpg',retriever_pk=retrievers['inception']['id'])"
   ]
  },
  {
   "cell_type": "code",
   "execution_count": 9,
   "metadata": {},
   "outputs": [],
   "source": [
    "q.execute(context=ctx)"
   ]
  },
  {
   "cell_type": "code",
   "execution_count": 10,
   "metadata": {},
   "outputs": [],
   "source": [
    "q.wait()"
   ]
  },
  {
   "cell_type": "code",
   "execution_count": 11,
   "metadata": {},
   "outputs": [],
   "source": [
    "r = q.results"
   ]
  },
  {
   "cell_type": "code",
   "execution_count": 13,
   "metadata": {},
   "outputs": [
    {
     "data": {
      "text/plain": [
       "[{u'algorithm': u'E',\n",
       "  u'detection': 107,\n",
       "  u'distance': 16.7636553504452,\n",
       "  u'frame': 14,\n",
       "  u'id': 20,\n",
       "  u'query': 4,\n",
       "  u'rank': 20,\n",
       "  u'retrieval_event': 21,\n",
       "  u'video': 1},\n",
       " {u'algorithm': u'E',\n",
       "  u'detection': 21,\n",
       "  u'distance': 16.7396311916869,\n",
       "  u'frame': 3,\n",
       "  u'id': 19,\n",
       "  u'query': 4,\n",
       "  u'rank': 19,\n",
       "  u'retrieval_event': 21,\n",
       "  u'video': 2},\n",
       " {u'algorithm': u'E',\n",
       "  u'detection': 20,\n",
       "  u'distance': 16.3187779192521,\n",
       "  u'frame': 3,\n",
       "  u'id': 18,\n",
       "  u'query': 4,\n",
       "  u'rank': 18,\n",
       "  u'retrieval_event': 21,\n",
       "  u'video': 2},\n",
       " {u'algorithm': u'E',\n",
       "  u'detection': None,\n",
       "  u'distance': 15.9477908560746,\n",
       "  u'frame': 4,\n",
       "  u'id': 17,\n",
       "  u'query': 4,\n",
       "  u'rank': 17,\n",
       "  u'retrieval_event': 21,\n",
       "  u'video': 2},\n",
       " {u'algorithm': u'E',\n",
       "  u'detection': 120,\n",
       "  u'distance': 15.9037998109743,\n",
       "  u'frame': 13,\n",
       "  u'id': 16,\n",
       "  u'query': 4,\n",
       "  u'rank': 16,\n",
       "  u'retrieval_event': 21,\n",
       "  u'video': 1},\n",
       " {u'algorithm': u'E',\n",
       "  u'detection': None,\n",
       "  u'distance': 15.8549036820842,\n",
       "  u'frame': 19,\n",
       "  u'id': 15,\n",
       "  u'query': 4,\n",
       "  u'rank': 15,\n",
       "  u'retrieval_event': 21,\n",
       "  u'video': 1},\n",
       " {u'algorithm': u'E',\n",
       "  u'detection': 119,\n",
       "  u'distance': 15.4315544598776,\n",
       "  u'frame': 13,\n",
       "  u'id': 14,\n",
       "  u'query': 4,\n",
       "  u'rank': 14,\n",
       "  u'retrieval_event': 21,\n",
       "  u'video': 1},\n",
       " {u'algorithm': u'E',\n",
       "  u'detection': 104,\n",
       "  u'distance': 15.3157254427937,\n",
       "  u'frame': 14,\n",
       "  u'id': 13,\n",
       "  u'query': 4,\n",
       "  u'rank': 13,\n",
       "  u'retrieval_event': 21,\n",
       "  u'video': 1},\n",
       " {u'algorithm': u'E',\n",
       "  u'detection': 94,\n",
       "  u'distance': 14.7249994979788,\n",
       "  u'frame': 20,\n",
       "  u'id': 12,\n",
       "  u'query': 4,\n",
       "  u'rank': 12,\n",
       "  u'retrieval_event': 21,\n",
       "  u'video': 1},\n",
       " {u'algorithm': u'E',\n",
       "  u'detection': None,\n",
       "  u'distance': 13.8564964222327,\n",
       "  u'frame': 10,\n",
       "  u'id': 11,\n",
       "  u'query': 4,\n",
       "  u'rank': 11,\n",
       "  u'retrieval_event': 21,\n",
       "  u'video': 1},\n",
       " {u'algorithm': u'E',\n",
       "  u'detection': 128,\n",
       "  u'distance': 13.6517650402387,\n",
       "  u'frame': 10,\n",
       "  u'id': 10,\n",
       "  u'query': 4,\n",
       "  u'rank': 10,\n",
       "  u'retrieval_event': 21,\n",
       "  u'video': 1},\n",
       " {u'algorithm': u'E',\n",
       "  u'detection': None,\n",
       "  u'distance': 13.2708900091958,\n",
       "  u'frame': 13,\n",
       "  u'id': 9,\n",
       "  u'query': 4,\n",
       "  u'rank': 9,\n",
       "  u'retrieval_event': 21,\n",
       "  u'video': 1},\n",
       " {u'algorithm': u'E',\n",
       "  u'detection': None,\n",
       "  u'distance': 12.9910951019876,\n",
       "  u'frame': 20,\n",
       "  u'id': 8,\n",
       "  u'query': 4,\n",
       "  u'rank': 8,\n",
       "  u'retrieval_event': 21,\n",
       "  u'video': 1},\n",
       " {u'algorithm': u'E',\n",
       "  u'detection': None,\n",
       "  u'distance': 12.9328188649977,\n",
       "  u'frame': 14,\n",
       "  u'id': 7,\n",
       "  u'query': 4,\n",
       "  u'rank': 7,\n",
       "  u'retrieval_event': 21,\n",
       "  u'video': 1},\n",
       " {u'algorithm': u'E',\n",
       "  u'detection': 118,\n",
       "  u'distance': 12.9257160248008,\n",
       "  u'frame': 13,\n",
       "  u'id': 6,\n",
       "  u'query': 4,\n",
       "  u'rank': 6,\n",
       "  u'retrieval_event': 21,\n",
       "  u'video': 1},\n",
       " {u'algorithm': u'E',\n",
       "  u'detection': 95,\n",
       "  u'distance': 11.4048406600289,\n",
       "  u'frame': 19,\n",
       "  u'id': 5,\n",
       "  u'query': 4,\n",
       "  u'rank': 5,\n",
       "  u'retrieval_event': 21,\n",
       "  u'video': 1},\n",
       " {u'algorithm': u'E',\n",
       "  u'detection': 105,\n",
       "  u'distance': 11.0156176888602,\n",
       "  u'frame': 14,\n",
       "  u'id': 4,\n",
       "  u'query': 4,\n",
       "  u'rank': 4,\n",
       "  u'retrieval_event': 21,\n",
       "  u'video': 1},\n",
       " {u'algorithm': u'E',\n",
       "  u'detection': 113,\n",
       "  u'distance': 10.9073151636724,\n",
       "  u'frame': 13,\n",
       "  u'id': 3,\n",
       "  u'query': 4,\n",
       "  u'rank': 3,\n",
       "  u'retrieval_event': 21,\n",
       "  u'video': 1},\n",
       " {u'algorithm': u'E',\n",
       "  u'detection': 112,\n",
       "  u'distance': 10.4453484797447,\n",
       "  u'frame': 14,\n",
       "  u'id': 2,\n",
       "  u'query': 4,\n",
       "  u'rank': 2,\n",
       "  u'retrieval_event': 21,\n",
       "  u'video': 1},\n",
       " {u'algorithm': u'E',\n",
       "  u'detection': 91,\n",
       "  u'distance': 10.1169504227781,\n",
       "  u'frame': 20,\n",
       "  u'id': 1,\n",
       "  u'query': 4,\n",
       "  u'rank': 1,\n",
       "  u'retrieval_event': 21,\n",
       "  u'video': 1}]"
      ]
     },
     "execution_count": 13,
     "metadata": {},
     "output_type": "execute_result"
    }
   ],
   "source": [
    "for r in r['query_results']"
   ]
  },
  {
   "cell_type": "code",
   "execution_count": null,
   "metadata": {},
   "outputs": [],
   "source": [
    "v = client.ProcessVideoURL(name=\"test\",url=\"https://www.youtube.com/watch?v=ashLaclKCik\")"
   ]
  },
  {
   "cell_type": "code",
   "execution_count": null,
   "metadata": {},
   "outputs": [],
   "source": [
    "v.execute(ctx)"
   ]
  },
  {
   "cell_type": "code",
   "execution_count": null,
   "metadata": {},
   "outputs": [],
   "source": [
    "v.query_json"
   ]
  },
  {
   "cell_type": "code",
   "execution_count": null,
   "metadata": {},
   "outputs": [],
   "source": [
    "print v.wait()"
   ]
  }
 ],
 "metadata": {
  "kernelspec": {
   "display_name": "Python 2",
   "language": "python",
   "name": "python2"
  },
  "language_info": {
   "codemirror_mode": {
    "name": "ipython",
    "version": 2
   },
   "file_extension": ".py",
   "mimetype": "text/x-python",
   "name": "python",
   "nbconvert_exporter": "python",
   "pygments_lexer": "ipython2",
   "version": "2.7.10"
  }
 },
 "nbformat": 4,
 "nbformat_minor": 2
}
