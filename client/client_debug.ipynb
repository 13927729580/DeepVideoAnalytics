{
 "cells": [
  {
   "cell_type": "markdown",
   "metadata": {},
   "source": [
    "# Deep Video Analytics client using REST API endpoint"
   ]
  },
  {
   "cell_type": "code",
   "execution_count": 1,
   "metadata": {},
   "outputs": [],
   "source": [
    "import sys\n",
    "sys.path.append('../')\n",
    "import client\n",
    "import logging\n",
    "from IPython.display import Image, display"
   ]
  },
  {
   "cell_type": "markdown",
   "metadata": {},
   "source": [
    "### Get token from /security and use the token along with url to create a context"
   ]
  },
  {
   "cell_type": "code",
   "execution_count": 7,
   "metadata": {},
   "outputs": [],
   "source": [
    "ctx = client.DVAContext(server='http://localhost:8000/',token=\"96c3f754322c6fa7da724d14ef475cdd1f382189\")"
   ]
  },
  {
   "cell_type": "markdown",
   "metadata": {},
   "source": [
    "## List objects"
   ]
  },
  {
   "cell_type": "code",
   "execution_count": 8,
   "metadata": {},
   "outputs": [
    {
     "name": "stdout",
     "output_type": "stream",
     "text": [
      "exampledataset with ID: 2\n",
      "crnn_test with ID: 3\n",
      "citest with ID: 1\n"
     ]
    }
   ],
   "source": [
    "for v in ctx.list_videos():\n",
    "    print \"{name} with ID: {vid}\".format(name=v['name'],vid=v['id'])"
   ]
  },
  {
   "cell_type": "code",
   "execution_count": 9,
   "metadata": {
    "scrolled": false
   },
   "outputs": [
    {
     "name": "stdout",
     "output_type": "stream",
     "text": [
      "coco\n",
      "textbox\n",
      "face\n",
      "inception\n",
      "facenet\n",
      "crnn\n",
      "tagger\n"
     ]
    }
   ],
   "source": [
    "for v in ctx.list_models():\n",
    "    print v['name']"
   ]
  },
  {
   "cell_type": "markdown",
   "metadata": {},
   "source": [
    "## Process a video"
   ]
  },
  {
   "cell_type": "code",
   "execution_count": null,
   "metadata": {},
   "outputs": [],
   "source": [
    "video_processing_query = client.ProcessVideoURL(name=\"test\",url=\"https://www.youtube.com/watch?v=ashLaclKCik\")\n",
    "video_processing_query.execute(ctx)"
   ]
  },
  {
   "cell_type": "markdown",
   "metadata": {},
   "source": [
    "##### Optionally you can \"wait\" on it to complete,"
   ]
  },
  {
   "cell_type": "code",
   "execution_count": null,
   "metadata": {},
   "outputs": [],
   "source": [
    "video_processing_query.wait()"
   ]
  },
  {
   "cell_type": "markdown",
   "metadata": {},
   "source": [
    "## Finding similar images"
   ]
  },
  {
   "cell_type": "markdown",
   "metadata": {},
   "source": [
    "### Get inception indexer and retriever for similarity search"
   ]
  },
  {
   "cell_type": "code",
   "execution_count": 12,
   "metadata": {},
   "outputs": [
    {
     "name": "stdout",
     "output_type": "stream",
     "text": [
      "4\n",
      "1\n"
     ]
    }
   ],
   "source": [
    "indexers = {r['name']:r for r in ctx.list_models() if r['model_type'] == 'I'}\n",
    "retrievers = {r['name']:r for r in ctx.list_retrievers()}\n",
    "print indexers['inception']['id']\n",
    "print retrievers['inception']['id']"
   ]
  },
  {
   "cell_type": "markdown",
   "metadata": {},
   "source": [
    "#### Query image"
   ]
  },
  {
   "cell_type": "code",
   "execution_count": 13,
   "metadata": {},
   "outputs": [
    {
     "data": {
      "image/jpeg": "[encoded data removed]",
      "text/plain": [
       "<IPython.core.display.Image object>"
      ]
     },
     "metadata": {
      "image/jpeg": {
       "width": 300
      }
     },
     "output_type": "display_data"
    }
   ],
   "source": [
    "leo_query_image = '../notebooks/figures/leo.jpg'\n",
    "display(Image(leo_query_image,width=300))"
   ]
  },
  {
   "cell_type": "markdown",
   "metadata": {},
   "source": [
    "### Lets make a request using inception retriever and inception indexer"
   ]
  },
  {
   "cell_type": "code",
   "execution_count": 15,
   "metadata": {},
   "outputs": [],
   "source": [
    "q = client.FindSimilarImages(leo_query_image,indexer_pk=indexers['facenet']['id'],\n",
    "                             retriever_pk=retrievers['inception']['id'])\n",
    "q.execute(context=ctx)"
   ]
  },
  {
   "cell_type": "code",
   "execution_count": null,
   "metadata": {
    "scrolled": false
   },
   "outputs": [],
   "source": [
    "res = {t['id']:sorted([(r['rank'],ctx.get_frame(r['frame'])['media_url'],r) for r in t['query_results']]) for t in q.results['tasks'] if t['query_results']}"
   ]
  },
  {
   "cell_type": "code",
   "execution_count": null,
   "metadata": {
    "scrolled": false
   },
   "outputs": [],
   "source": [
    "display(Image(url,width=100))\n",
    "\n",
    "for _, rs in res.iteritems():\n",
    "    for rank,url,entry in rs:\n",
    "        print \"Rank {}\".format(rank)\n",
    "        display(Image(url,width=300))        "
   ]
  },
  {
   "cell_type": "code",
   "execution_count": null,
   "metadata": {},
   "outputs": [],
   "source": [
    "f = \n",
    "print f"
   ]
  }
 ],
 "metadata": {
  "kernelspec": {
   "display_name": "Python 2",
   "language": "python",
   "name": "python2"
  },
  "language_info": {
   "codemirror_mode": {
    "name": "ipython",
    "version": 2
   },
   "file_extension": ".py",
   "mimetype": "text/x-python",
   "name": "python",
   "nbconvert_exporter": "python",
   "pygments_lexer": "ipython2",
   "version": "2.7.10"
  }
 },
 "nbformat": 4,
 "nbformat_minor": 2
}
