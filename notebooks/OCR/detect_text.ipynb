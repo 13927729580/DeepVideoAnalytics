{
 "cells": [
  {
   "cell_type": "code",
   "execution_count": 1,
   "metadata": {},
   "outputs": [
    {
     "name": "stderr",
     "output_type": "stream",
     "text": [
      "Using TensorFlow backend.\n"
     ]
    }
   ],
   "source": [
    "import sys\n",
    "import tensorflow as tf\n",
    "sys.path.append('../../')\n",
    "from dvalib import detector"
   ]
  },
  {
   "cell_type": "code",
   "execution_count": 2,
   "metadata": {},
   "outputs": [],
   "source": [
    "text_detector = detector.TextBoxDetector(model_path='../../repos/tf_ctpn_cpu/checkpoints/')"
   ]
  },
  {
   "cell_type": "code",
   "execution_count": 3,
   "metadata": {},
   "outputs": [
    {
     "name": "stdout",
     "output_type": "stream",
     "text": [
      "Tensor(\"Placeholder:0\", shape=(?, ?, ?, 3), dtype=float32)\n",
      "Tensor(\"conv5_3/conv5_3:0\", shape=(?, ?, ?, 512), dtype=float32)\n",
      "Tensor(\"rpn_conv/3x3/rpn_conv/3x3:0\", shape=(?, ?, ?, 512), dtype=float32)\n",
      "WARNING:tensorflow:<tensorflow.python.ops.rnn_cell_impl.BasicLSTMCell object at 0x11eac1dd0>: Using a concatenated state is slower and will soon be deprecated.  Use state_is_tuple=True.\n"
     ]
    },
    {
     "name": "stderr",
     "output_type": "stream",
     "text": [
      "WARNING:tensorflow:<tensorflow.python.ops.rnn_cell_impl.BasicLSTMCell object at 0x11eac1dd0>: Using a concatenated state is slower and will soon be deprecated.  Use state_is_tuple=True.\n"
     ]
    },
    {
     "name": "stdout",
     "output_type": "stream",
     "text": [
      "Tensor(\"lstm_o/Reshape:0\", shape=(?, ?, ?, 128), dtype=float32)\n",
      "Tensor(\"lstm_o/Reshape:0\", shape=(?, ?, ?, 128), dtype=float32)\n",
      "Tensor(\"rpn_cls_score/Reshape:0\", shape=(?, ?, ?, 20), dtype=float32)\n",
      "Tensor(\"rpn_cls_prob:0\", shape=(?, ?, ?, ?), dtype=float32)\n",
      "Tensor(\"Reshape_5:0\", shape=(?, ?, ?, 20), dtype=float32)\n",
      "Tensor(\"rpn_bbox_pred/Reshape:0\", shape=(?, ?, ?, 40), dtype=float32)\n",
      "Tensor(\"Placeholder_1:0\", shape=(?, 3), dtype=float32)\n",
      "INFO:tensorflow:Restoring parameters from ../../repos/tf_ctpn_cpu/checkpoints/VGGnet_fast_rcnn_iter_50000.ckpt\n"
     ]
    },
    {
     "name": "stderr",
     "output_type": "stream",
     "text": [
      "INFO:tensorflow:Restoring parameters from ../../repos/tf_ctpn_cpu/checkpoints/VGGnet_fast_rcnn_iter_50000.ckpt\n"
     ]
    }
   ],
   "source": [
    "text_detector.load()"
   ]
  },
  {
   "cell_type": "code",
   "execution_count": 5,
   "metadata": {},
   "outputs": [],
   "source": [
    "from glob import glob\n",
    "try:\n",
    "    os.mkdir('boxes')\n",
    "except:\n",
    "    pass\n",
    "box_count = 0\n",
    "for im_name in glob(\"images/*.jpg\"):\n",
    "    boxes = text_detector.detect(im_name)\n",
    "    break"
   ]
  },
  {
   "cell_type": "code",
   "execution_count": null,
   "metadata": {},
   "outputs": [],
   "source": []
  },
  {
   "cell_type": "code",
   "execution_count": null,
   "metadata": {
    "scrolled": false
   },
   "outputs": [],
   "source": [
    "from glob import glob\n",
    "timer=Timer()\n",
    "try:\n",
    "    os.mkdir('boxes')\n",
    "except:\n",
    "    pass\n",
    "box_count = 0\n",
    "for im_name in glob(\"images/*.jpg\"):\n",
    "    im_file=osp.join(im_name)\n",
    "    im=cv2.imread(im_file)\n",
    "    timer.tic()\n",
    "    im, f=resize_im(im, cfg.SCALE, cfg.MAX_SCALE)\n",
    "    text_lines=text_detector.detect(im)        \n",
    "    im_with_text_lines=draw_boxes(im, text_lines, caption=im_name, is_display=False)\n",
    "    cv2.imwrite('out.jpg',im_with_text_lines)\n",
    "    display(Image('out.jpg'))\n",
    "    for k in text_lines:\n",
    "        top,left,bottom,right,score = k \n",
    "        crop_img = im[int(left):int(right),int(top):int(bottom)]\n",
    "        cv2.imwrite('boxes/box_{}.jpg'.format(box_count),crop_img)\n",
    "        display(Image('boxes/box_{}.jpg'.format(box_count)))\n",
    "        box_count += 1"
   ]
  },
  {
   "cell_type": "code",
   "execution_count": null,
   "metadata": {},
   "outputs": [],
   "source": []
  }
 ],
 "metadata": {
  "kernelspec": {
   "display_name": "Python 2",
   "language": "python",
   "name": "python2"
  },
  "language_info": {
   "codemirror_mode": {
    "name": "ipython",
    "version": 2
   },
   "file_extension": ".py",
   "mimetype": "text/x-python",
   "name": "python",
   "nbconvert_exporter": "python",
   "pygments_lexer": "ipython2",
   "version": "2.7.10"
  }
 },
 "nbformat": 4,
 "nbformat_minor": 1
}
